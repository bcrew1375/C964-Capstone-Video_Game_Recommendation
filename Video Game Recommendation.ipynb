{
 "cells": [
  {
   "cell_type": "markdown",
   "metadata": {
    "extensions": {
     "jupyter_dashboards": {
      "version": 1,
      "views": {
       "grid_default": {},
       "report_default": {}
      }
     }
    }
   },
   "source": [
    "# Video Game Recommendation\n",
    "The following notebook will demonstrate a visual data analysis of various video game data and a video game recommendation algorithm. Selecting a platform below will show three analyses related to that platform.\n",
    "After a platform is selected, you may choose a genre, at which point the games fitting into those categories will be listed in the \"Game\" dropdown box. Selecting a game from this box will recommend an additional game you may like."
   ]
  },
  {
   "cell_type": "code",
   "execution_count": 5,
   "metadata": {
    "extensions": {
     "jupyter_dashboards": {
      "version": 1,
      "views": {
       "grid_default": {},
       "report_default": {}
      }
     }
    },
    "pycharm": {
     "name": "#%%\n"
    }
   },
   "outputs": [
    {
     "data": {
      "application/vnd.jupyter.widget-view+json": {
       "model_id": "bd1418a024834b91bdb4fb6b68c9ad76",
       "version_major": 2,
       "version_minor": 0
      },
      "text/plain": [
       "Dropdown(description='Platform:', options=('X360', 'PS3', 'PS', 'DC', 'PS2', 'PS4', 'Wii', 'XB', 'XOne', 'GC',…"
      ]
     },
     "metadata": {},
     "output_type": "display_data"
    },
    {
     "data": {
      "application/vnd.jupyter.widget-view+json": {
       "model_id": "6685bf304fc0412885a0a62b34c233bb",
       "version_major": 2,
       "version_minor": 0
      },
      "text/plain": [
       "Dropdown(description='Genre:', options=('Action', 'Adventure', 'Fighting', 'Misc', 'Platform', 'Puzzle', 'Raci…"
      ]
     },
     "metadata": {},
     "output_type": "display_data"
    },
    {
     "data": {
      "application/vnd.jupyter.widget-view+json": {
       "model_id": "44af914e62fc4639a87bcb6f6a93eea7",
       "version_major": 2,
       "version_minor": 0
      },
      "text/plain": [
       "Dropdown(description='Game:', options=('007: Quantum of Solace', 'Ace Combat: Assault Horizon', 'Adventure Tim…"
      ]
     },
     "metadata": {},
     "output_type": "display_data"
    },
    {
     "data": {
      "application/vnd.jupyter.widget-view+json": {
       "model_id": "464e8a0d08304b77a711a98e8b84906f",
       "version_major": 2,
       "version_minor": 0
      },
      "text/plain": [
       "Output()"
      ]
     },
     "metadata": {},
     "output_type": "display_data"
    }
   ],
   "source": [
    "%matplotlib widget\n",
    "\n",
    "import pandas as pd\n",
    "import matplotlib as mpl\n",
    "import numpy as np\n",
    "import ipywidgets as widgets\n",
    "import IPython.core.display\n",
    "import IPython.display\n",
    "\n",
    "def refresh_games_list():\n",
    "    global games_list\n",
    "    global games_dropdown\n",
    "    global selected_platform\n",
    "    global selected_genre\n",
    "\n",
    "    games_frame = videogame_database[(videogame_database[\"Platform\"] == selected_platform) & (videogame_database[\"Genre\"] == selected_genre)]\n",
    "    games_list = games_frame[\"Name\"].tolist()\n",
    "    games_list.sort()\n",
    "\n",
    "    try:\n",
    "        games_dropdown.options = games_list\n",
    "    except:\n",
    "        pass\n",
    "\n",
    "\n",
    "def platform_change(change):\n",
    "    global selected_platform\n",
    "    global selected_genre\n",
    "    global genre_dropdown_list\n",
    "    global genre_dropdown\n",
    "\n",
    "    selected_platform = change[\"new\"]\n",
    "\n",
    "    selected_platform_frame = videogame_database[videogame_database[\"Platform\"] == selected_platform]\n",
    "    genre_dropdown_list = selected_platform_frame[\"Genre\"].unique().tolist()\n",
    "    genre_dropdown_list.sort()\n",
    "\n",
    "    selected_genre = genre_dropdown_list[0]\n",
    "    genre_dropdown.options = genre_dropdown_list\n",
    "\n",
    "    refresh_games_list()\n",
    "    update_plots()\n",
    "\n",
    "\n",
    "def genre_change(change):\n",
    "    global selected_genre\n",
    "\n",
    "    selected_genre = change[\"new\"]\n",
    "\n",
    "    refresh_games_list()\n",
    "\n",
    "\n",
    "def update_plots():\n",
    "    global videogame_database\n",
    "    global selected_platform\n",
    "    global output\n",
    "    global platform_dropdown\n",
    "    global genre_dropdown\n",
    "    global games_dropdown\n",
    "    global figure1\n",
    "    global figure2\n",
    "    global figure3\n",
    "\n",
    "    IPython.display.clear_output()\n",
    "    \n",
    "    display(platform_dropdown)\n",
    "    display(genre_dropdown)\n",
    "    display(games_dropdown)\n",
    "\n",
    "    with output:\n",
    "        output.clear_output()\n",
    "\n",
    "        mpl.pyplot.close(1)\n",
    "        mpl.pyplot.close(2)\n",
    "        mpl.pyplot.close(3)\n",
    "        \n",
    "        print(\"This bar chart shows the average global sales among games on this platform by each genre available.\")\n",
    "        figure1 = mpl.pyplot.figure(figsize=(10,7))\n",
    "        print(\"This pie chart shows the percentage of games in each genre for this platform.\")\n",
    "        figure2 = mpl.pyplot.figure(figsize=(10,10))\n",
    "        print(\"This scatter plot shows possible correlations between critic scores and global sales.\")\n",
    "        figure3 = mpl.pyplot.figure(figsize=(10,5))\n",
    "\n",
    "        selected_platform_frame = videogame_database[videogame_database[\"Platform\"] == selected_platform]\n",
    "        genre = selected_platform_frame[\"Genre\"].unique().tolist()\n",
    "        genre.sort()\n",
    "\n",
    "        # Calculate the average global sales for each platform.\n",
    "        mean_global_sales = selected_platform_frame.sort_values(\"Genre\").groupby([\"Genre\"])[\"Global_Sales\"].mean()\n",
    "        sales = mean_global_sales.tolist()\n",
    "\n",
    "        title = \"Average Global Sales by Genre on Platform: {0} (In Millions)\".format(selected_platform)\n",
    "\n",
    "        mpl.pyplot.figure(1)\n",
    "        mpl.pyplot.barh(genre, sales, color ='blue', align=\"edge\")\n",
    "        mpl.pyplot.title(title)\n",
    "        mpl.pyplot.xlabel(\"Sales\")\n",
    "        mpl.pyplot.ylabel(\"Genre\")\n",
    "\n",
    "        # Calculate the percentage of games in each genre on the platform.\n",
    "        title = \"Percentage of Games in Genre on Platform: {0}\".format(selected_platform)\n",
    "\n",
    "        genre_percentage = selected_platform_frame.sort_values(\"Genre\").groupby([\"Genre\"])[\"Name\"].count()\n",
    "\n",
    "        mpl.pyplot.figure(2)\n",
    "        mpl.pyplot.pie(genre_percentage, None, genre)\n",
    "        mpl.pyplot.title(title)\n",
    "        mpl.pyplot.legend(loc=\"right\")\n",
    "\n",
    "        # Calculate the scatter of global sales and critic scores on the platform.\n",
    "        sales = selected_platform_frame[\"Global_Sales\"]\n",
    "        scores = selected_platform_frame[\"Critic_Score\"]\n",
    "        selected_platform_frame = selected_platform_frame.replace(to_replace=\"tbd\", value=\"0\")\n",
    "        selected_platform_frame = selected_platform_frame.fillna(0)\n",
    "        #scores = selected_platform_frame[\"User_Score\"].astype(float)\n",
    "        #scores = scores.multiply(10)\n",
    "        #scores = scores.astype(int)\n",
    "\n",
    "        title = \"Distribution of Sales over Critic Score on Platform: {0}\".format(selected_platform)\n",
    "\n",
    "        mpl.pyplot.figure(3)\n",
    "        mpl.pyplot.scatter(scores, sales)\n",
    "        mpl.pyplot.title(title)\n",
    "        mpl.pyplot.xlabel(\"Scores\")\n",
    "        mpl.pyplot.ylabel(\"Sales\")\n",
    "    \n",
    "    display(output)\n",
    "\n",
    "\n",
    "videogame_database = pd.read_csv(\"Video_Games_Sales_as_at_22_Dec_2016.csv\")\n",
    "\n",
    "platform_dropdown_list = videogame_database[\"Platform\"].unique().tolist()\n",
    "\n",
    "selected_platform = platform_dropdown_list[0]\n",
    "selected_platform_frame = videogame_database[videogame_database[\"Platform\"] == selected_platform]\n",
    "\n",
    "genre_dropdown_list = selected_platform_frame[\"Genre\"].unique().tolist()\n",
    "genre_dropdown_list.sort()\n",
    "\n",
    "selected_genre = genre_dropdown_list[0]\n",
    "\n",
    "platform_dropdown = widgets.Dropdown(options=platform_dropdown_list, description=\"Platform:\", value=selected_platform)\n",
    "genre_dropdown = widgets.Dropdown(options=genre_dropdown_list, description=\"Genre:\", value=selected_genre)\n",
    "\n",
    "refresh_games_list()\n",
    "games_dropdown = widgets.Dropdown(options=games_list, description=\"Game:\", value = games_list[0])\n",
    "\n",
    "platform_dropdown.observe(platform_change, names = \"value\")\n",
    "genre_dropdown.observe(genre_change, names = \"value\")\n",
    "\n",
    "# Do initial output setup.\n",
    "output = widgets.Output()\n",
    "    \n",
    "update_plots()"
   ]
  }
 ],
 "metadata": {
  "extensions": {
   "jupyter_dashboards": {
    "activeView": "grid_default",
    "version": 1,
    "views": {
     "grid_default": {
      "cellMargin": 10,
      "defaultCellHeight": 20,
      "maxColumns": 12,
      "name": "grid",
      "type": "grid"
     },
     "report_default": {
      "name": "report",
      "type": "report"
     }
    }
   }
  },
  "kernelspec": {
   "display_name": "Python 3",
   "language": "python",
   "name": "python3"
  },
  "language_info": {
   "codemirror_mode": {
    "name": "ipython",
    "version": 3
   },
   "file_extension": ".py",
   "mimetype": "text/x-python",
   "name": "python",
   "nbconvert_exporter": "python",
   "pygments_lexer": "ipython3",
   "version": "3.7.1"
  }
 },
 "nbformat": 4,
 "nbformat_minor": 4
}