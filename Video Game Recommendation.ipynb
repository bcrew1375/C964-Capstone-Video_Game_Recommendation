{
 "cells": [
  {
   "cell_type": "markdown",
   "metadata": {},
   "source": [
    "# Video Game Recommendation\n",
    "The following notebook will demonstrate a data analysis and video game recommendation algorithm.\n",
    "\n",
    "Please select a platform and genre:"
   ]
  },
  {
   "cell_type": "code",
   "execution_count": 1,
   "metadata": {
    "pycharm": {
     "name": "#%%\n"
    }
   },
   "outputs": [
    {
     "data": {
      "application/vnd.jupyter.widget-view+json": {
       "model_id": "908b2ebb7fba48baa63a36e5576be460",
       "version_major": 2,
       "version_minor": 0
      },
      "text/plain": [
       "Dropdown(description='Platform:', index=17, options=('X360', 'PS3', 'PS', 'DC', 'PS2', 'PS4', 'Wii', 'XB', 'XO…"
      ]
     },
     "metadata": {},
     "output_type": "display_data"
    },
    {
     "data": {
      "application/vnd.jupyter.widget-view+json": {
       "model_id": "0a6816ead99347ce9d50b7b0491b29c4",
       "version_major": 2,
       "version_minor": 0
      },
      "text/plain": [
       "Dropdown(description='Genre:', index=12, options=('Action', 'Sports', 'Fighting', 'Platform', 'Shooter', 'Raci…"
      ]
     },
     "metadata": {},
     "output_type": "display_data"
    },
    {
     "data": {
      "application/vnd.jupyter.widget-view+json": {
       "model_id": "939ab65f245c48b3b0454eb5016227cf",
       "version_major": 2,
       "version_minor": 0
      },
      "text/plain": [
       "Dropdown(description='Game:', options=('XCOM: Enemy Unknown', 'Plants vs. Zombies', \"Sid Meier's Civilization …"
      ]
     },
     "metadata": {},
     "output_type": "display_data"
    }
   ],
   "source": [
    "import pandas as pd\n",
    "import ipywidgets as widgets\n",
    "from IPython.core.display import display\n",
    "#from ipywidgets import interact, interact_manual\n",
    "\n",
    "videogame_database = pd.read_csv(\"Video_Games_Sales_as_at_22_Dec_2016.csv\")\n",
    "\n",
    "platform_dropdown_list = videogame_database[\"Platform\"].unique().tolist()\n",
    "genre_dropdown_list = videogame_database[\"Genre\"].unique().tolist()\n",
    "\n",
    "platform_dropdown_list.append(\"None\")\n",
    "genre_dropdown_list.append(\"None\")\n",
    "\n",
    "platform_dropdown = widgets.Dropdown(options=platform_dropdown_list, description=\"Platform:\", value=\"None\")\n",
    "genre_dropdown = widgets.Dropdown(options=genre_dropdown_list, description=\"Genre:\", value=\"None\")\n",
    "\n",
    "display(platform_dropdown)\n",
    "display(genre_dropdown)\n",
    "\n",
    "selected_platform = \"None\"\n",
    "selected_genre = \"None\"\n",
    "\n",
    "games_list = [\"None\"]\n",
    "\n",
    "def platform_change(change):\n",
    "    global selected_platform\n",
    "    global games_list\n",
    "    global games_dropdown\n",
    "\n",
    "    selected_platform = change[\"new\"]\n",
    "    if (selected_platform != \"None\") and (selected_genre != \"None\"):\n",
    "        games_list = videogame_database[(videogame_database[\"Platform\"] == selected_platform) & (videogame_database[\"Genre\"] == selected_genre)]\n",
    "        games_list = games_list[\"Name\"].tolist()\n",
    "        games_dropdown.options = games_list\n",
    "    else:\n",
    "        games_list = [\"None\"]\n",
    "\n",
    "    if games_dropdown.options[0] != \"None\":\n",
    "        display(games_dropdown)\n",
    "\n",
    "\n",
    "def genre_change(change):\n",
    "    global selected_genre\n",
    "    global games_list\n",
    "    global games_dropdown\n",
    "\n",
    "    selected_genre = change[\"new\"]\n",
    "    if (selected_platform != \"None\") and (selected_genre != \"None\"):\n",
    "        games_list = videogame_database[(videogame_database[\"Platform\"] == selected_platform) & (videogame_database[\"Genre\"] == selected_genre)]\n",
    "        games_list = games_list[\"Name\"].tolist()\n",
    "        games_dropdown.options = games_list\n",
    "    else:\n",
    "        games_list = [\"None\"]\n",
    "\n",
    "    if games_dropdown.options[0] != \"None\":\n",
    "        display(games_dropdown)\n",
    "\n",
    "\n",
    "platform_dropdown.observe(platform_change, names = \"value\")\n",
    "genre_dropdown.observe(genre_change, names = \"value\")"
   ]
  },
  {
   "cell_type": "markdown",
   "metadata": {},
   "source": [
    "Please select a game to buy from these categories:"
   ]
  },
  {
   "cell_type": "code",
   "execution_count": 2,
   "metadata": {
    "pycharm": {
     "name": "#%%\n"
    }
   },
   "outputs": [],
   "source": [
    "def game_change(change):\n",
    "    pass\n",
    "\n",
    "\n",
    "games_dropdown = widgets.Dropdown(options=games_list, description=\"Game:\", value=\"None\")"
   ]
  }
 ],
 "metadata": {
  "kernelspec": {
   "display_name": "Python 3",
   "language": "python",
   "name": "python3"
  },
  "language_info": {
   "codemirror_mode": {
    "name": "ipython",
    "version": 3
   },
   "file_extension": ".py",
   "mimetype": "text/x-python",
   "name": "python",
   "nbconvert_exporter": "python",
   "pygments_lexer": "ipython3",
   "version": "3.7.1"
  }
 },
 "nbformat": 4,
 "nbformat_minor": 1
}