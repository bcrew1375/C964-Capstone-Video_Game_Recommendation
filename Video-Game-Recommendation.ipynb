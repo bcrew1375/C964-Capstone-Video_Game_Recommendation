{
 "cells": [
  {
   "cell_type": "markdown",
   "metadata": {
    "extensions": {
     "jupyter_dashboards": {
      "version": 1,
      "views": {
       "grid_default": {},
       "report_default": {}
      }
     }
    }
   },
   "source": [
    "# Video Game Recommendation\n",
    "The following notebook will demonstrate a visual data analysis of various video game data and a video game recommendation algorithm. Selecting a platform from the \"Platform\" dropdown below will show three visual analyses related to that platform.\n",
    "After a platform is selected, you may choose a genre from the \"Genre\" dropdown, at which point the games fitting into those categories will be listed in the \"Game\" dropdown box. Selecting a game from this box will populate the \"Recommended\"\n",
    "dropdown with up to 5 game recommendations. These recommendations are based on multiple similarity factors including developer, name, critic score, and user score."
   ]
  },
  {
   "cell_type": "code",
   "execution_count": 31,
   "metadata": {
    "extensions": {
     "jupyter_dashboards": {
      "version": 1,
      "views": {
       "grid_default": {},
       "report_default": {}
      }
     }
    },
    "pycharm": {
     "name": "#%%\n"
    }
   },
   "outputs": [
    {
     "data": {
      "application/vnd.jupyter.widget-view+json": {
       "model_id": "5c63e1bbfa1c4b939fbf61fd5b20019d",
       "version_major": 2,
       "version_minor": 0
      },
      "text/plain": [
       "Dropdown(description='Platform:', options=('DC', 'PS', 'X360', 'PS3', 'XB', 'PS2', 'Wii', 'GC', 'PS4', 'XOne',…"
      ]
     },
     "metadata": {},
     "output_type": "display_data"
    },
    {
     "data": {
      "application/vnd.jupyter.widget-view+json": {
       "model_id": "97244ae199224c0da82d6a63e1f9d1a4",
       "version_major": 2,
       "version_minor": 0
      },
      "text/plain": [
       "Dropdown(description='Genre:', options=('Adventure', 'Fighting', 'Platform', 'Racing', 'Role-Playing', 'Shoote…"
      ]
     },
     "metadata": {},
     "output_type": "display_data"
    },
    {
     "data": {
      "application/vnd.jupyter.widget-view+json": {
       "model_id": "9fa269a5eba44c0f96fa4c75c8143fbb",
       "version_major": 2,
       "version_minor": 0
      },
      "text/plain": [
       "Dropdown(description='Game:', options=('Shenmue', 'Shenmue II'), value='Shenmue')"
      ]
     },
     "metadata": {},
     "output_type": "display_data"
    },
    {
     "data": {
      "application/vnd.jupyter.widget-view+json": {
       "model_id": "9470f91910354b0bbed9d4b0107f454f",
       "version_major": 2,
       "version_minor": 0
      },
      "text/plain": [
       "Dropdown(description='Recommended:', options=('Shenmue II',), value='Shenmue II')"
      ]
     },
     "metadata": {},
     "output_type": "display_data"
    },
    {
     "data": {
      "application/vnd.jupyter.widget-view+json": {
       "model_id": "eccb0dacaf40461dafc87e94809450a6",
       "version_major": 2,
       "version_minor": 0
      },
      "text/plain": [
       "Output()"
      ]
     },
     "metadata": {},
     "output_type": "display_data"
    }
   ],
   "source": [
    "%matplotlib widget\n",
    "\n",
    "import pandas as pd\n",
    "import matplotlib as mpl\n",
    "from sklearn.metrics.pairwise import cosine_similarity\n",
    "from sklearn.feature_extraction.text import CountVectorizer\n",
    "import numpy as np\n",
    "import ipywidgets as widgets\n",
    "import IPython.core.display\n",
    "import IPython.display\n",
    "\n",
    "\n",
    "def game_change(change):\n",
    "    global games_frame\n",
    "    global recommended_games_list\n",
    "    global recommended_games_dropdown\n",
    "\n",
    "    refresh_recommended_list(change[\"new\"])\n",
    "\n",
    "\n",
    "def genre_change(change):\n",
    "    global selected_genre\n",
    "\n",
    "    selected_genre = change[\"new\"]\n",
    "\n",
    "    refresh_games_list()\n",
    "\n",
    "\n",
    "def platform_change(change):\n",
    "    global selected_platform\n",
    "    global selected_genre\n",
    "    global genre_dropdown_list\n",
    "    global genre_dropdown\n",
    "\n",
    "    selected_platform = change[\"new\"]\n",
    "\n",
    "    selected_platform_frame = videogame_database[videogame_database[\"Platform\"] == selected_platform]\n",
    "    genre_dropdown_list = selected_platform_frame[\"Genre\"].unique().tolist()\n",
    "    genre_dropdown_list.sort()\n",
    "\n",
    "    selected_genre = genre_dropdown_list[0]\n",
    "    genre_dropdown.options = genre_dropdown_list\n",
    "    genre_dropdown.value = selected_genre\n",
    "\n",
    "    refresh_games_list()\n",
    "    update_plots()\n",
    "\n",
    "\n",
    "def refresh_games_list():\n",
    "    global games_list\n",
    "    global games_frame\n",
    "    global games_dropdown\n",
    "    global selected_platform\n",
    "    global selected_genre\n",
    "\n",
    "    games_frame = videogame_database[(videogame_database[\"Platform\"] == selected_platform) & (videogame_database[\"Genre\"] == selected_genre)]\n",
    "    games_list = games_frame[\"Name\"].tolist()\n",
    "    games_list.sort()\n",
    "\n",
    "    games_dropdown.options = games_list\n",
    "\n",
    "    refresh_recommended_list(games_list[0])\n",
    "\n",
    "\n",
    "def refresh_recommended_list(selected_game_name):\n",
    "    global recommended_games_dropdown\n",
    "    global recommended_games_list\n",
    "    global games_frame\n",
    "\n",
    "    selected_game_row = games_frame[games_frame[\"Name\"] == selected_game_name]\n",
    "    vectorizer = CountVectorizer()\n",
    "\n",
    "    # Create developer name similarity vector.\n",
    "    developer_vocabulary = vectorizer.fit(selected_game_row[\"Developer\"])\n",
    "    developer_selected_vector = developer_vocabulary.transform(selected_game_row[\"Developer\"])\n",
    "    developer_similarity_vector = developer_vocabulary.transform(games_frame[\"Developer\"])\n",
    "\n",
    "    # Create game name similarity vector.\n",
    "    name_vocabulary = vectorizer.fit(selected_game_row[\"Name\"])\n",
    "    name_selected_vector = name_vocabulary.transform(selected_game_row[\"Name\"])\n",
    "    name_similarity_vector = name_vocabulary.transform(games_frame[\"Name\"])\n",
    "\n",
    "    # Create critic score similarity vector.\n",
    "    critic_score_selected_vector = selected_game_row[\"Critic_Score\"]\n",
    "    critic_score_similarity_vector = games_frame[\"Critic_Score\"]\n",
    "\n",
    "    critic_score_selected_vector = np.array(critic_score_selected_vector)\n",
    "    critic_score_similarity_vector = np.array(critic_score_similarity_vector)\n",
    "\n",
    "    # Create user score similarity vector.\n",
    "    user_score_selected_vector = selected_game_row[\"User_Score\"]\n",
    "    user_score_similarity_vector = games_frame[\"User_Score\"]\n",
    "\n",
    "    user_score_selected_vector = user_score_selected_vector.replace(to_replace=\"tbd\", value=\"0\")\n",
    "    user_score_similarity_vector = user_score_similarity_vector.replace(to_replace=\"tbd\", value=\"0\")\n",
    "\n",
    "    user_score_selected_vector = np.array(user_score_selected_vector)\n",
    "    user_score_similarity_vector = np.array(user_score_similarity_vector)\n",
    "\n",
    "    user_score_selected_vector = user_score_selected_vector.astype(\"float64\")\n",
    "    user_score_similarity_vector = user_score_similarity_vector.astype(\"float64\")\n",
    "\n",
    "    #print(critic_score_selected_vector)\n",
    "    #print(critic_score_similarity_vector)\n",
    "\n",
    "    # Determine the similarity of all characteristics.\n",
    "    developer_cosine = cosine_similarity(developer_selected_vector, developer_similarity_vector)\n",
    "    name_cosine = cosine_similarity(name_selected_vector, name_similarity_vector)\n",
    "    # Invert critic score difference and scale to cosine similarities.\n",
    "    critic_score_similarity = ((100 - np.absolute(critic_score_selected_vector - critic_score_similarity_vector)) / 100)\n",
    "    user_score_similarity = ((10 - np.absolute(user_score_selected_vector - user_score_similarity_vector)) / 10)\n",
    "\n",
    "    similarity_vector = developer_cosine + name_cosine + critic_score_similarity + user_score_similarity\n",
    "    #print(similarity_vector)\n",
    "\n",
    "    #print (selected_game_vector.toarray())\n",
    "    #similarity_vector = cosine_similarity(selected_game_vector, test_games_vector)\n",
    "    #similarity_frame = pd.DataFrame(similarity_vector[0], columns=[\"Similarity\"])\n",
    "    recommended_games_frame = pd.DataFrame(games_frame[\"Name\"])\n",
    "    recommended_games_frame.insert(1, \"Similarity\", similarity_vector[0])\n",
    "    recommended_games_frame.sort_values(by=\"Similarity\", ascending=False, inplace=True)\n",
    "    #print (recommended_games_frame)\n",
    "    #print(similarity_vector[0])\n",
    "    recommended_games_list = recommended_games_frame[\"Name\"].tolist()\n",
    "    # Remove the currently selected game from the list.\n",
    "    recommended_games_list.remove(selected_game_name)\n",
    "    # Limit list to 5 games.\n",
    "    recommended_games_list = recommended_games_list[:5]\n",
    "    recommended_games_dropdown.options = recommended_games_list\n",
    "    recommended_games_dropdown.value = recommended_games_list[0]\n",
    "    #print(similarity_vector.tolist())\n",
    "    #print(pd.DataFrame(similarity_vector, columns=[\"Similarity\"]))\n",
    "    #print (games_frame)\n",
    "    #print (selected_game_row)\n",
    "    #print (developer_vocabulary.\n",
    "    #print(characteristics_frame)\n",
    "\n",
    "\n",
    "def update_plots():\n",
    "    global videogame_database\n",
    "    global selected_platform\n",
    "    global output\n",
    "    global platform_dropdown\n",
    "    global genre_dropdown\n",
    "    global games_dropdown\n",
    "    global recommended_games_dropdown\n",
    "    global figure1\n",
    "    global figure2\n",
    "    global figure3\n",
    "\n",
    "    IPython.display.clear_output()\n",
    "    \n",
    "    display(platform_dropdown)\n",
    "    display(genre_dropdown)\n",
    "    display(games_dropdown)\n",
    "    display(recommended_games_dropdown)\n",
    "\n",
    "    with output:\n",
    "        output.clear_output()\n",
    "\n",
    "        mpl.pyplot.close(1)\n",
    "        mpl.pyplot.close(2)\n",
    "        mpl.pyplot.close(3)\n",
    "        \n",
    "        print(\"This bar chart shows the average global sales among games on this platform by each genre available.\")\n",
    "        figure1 = mpl.pyplot.figure(figsize=(10,7))\n",
    "        print(\"This pie chart shows the percentage of games in each genre for this platform.\")\n",
    "        figure2 = mpl.pyplot.figure(figsize=(10,10))\n",
    "        print(\"This scatter plot shows possible correlations between critic scores and global sales.\")\n",
    "        figure3 = mpl.pyplot.figure(figsize=(10,5))\n",
    "\n",
    "        selected_platform_frame = videogame_database[videogame_database[\"Platform\"] == selected_platform]\n",
    "        genre = selected_platform_frame[\"Genre\"].unique().tolist()\n",
    "        genre.sort()\n",
    "\n",
    "        # Calculate the average global sales for each platform.\n",
    "        selected_platform_frame = selected_platform_frame.astype({\"Global_Sales\": \"float64\"})\n",
    "        mean_global_sales = selected_platform_frame.sort_values(\"Genre\").groupby([\"Genre\"])[\"Global_Sales\"].mean()\n",
    "        sales = mean_global_sales.tolist()\n",
    "\n",
    "        title = \"Average Global Sales by Genre on Platform: {0} (In Millions)\".format(selected_platform)\n",
    "\n",
    "        mpl.pyplot.figure(1)\n",
    "        mpl.pyplot.barh(genre, sales, color ='blue', align=\"edge\")\n",
    "        mpl.pyplot.title(title)\n",
    "        mpl.pyplot.xlabel(\"Sales\")\n",
    "        mpl.pyplot.ylabel(\"Genre\")\n",
    "\n",
    "        # Calculate the percentage of games in each genre on the platform.\n",
    "        title = \"Percentage of Games in Genre on Platform: {0}\".format(selected_platform)\n",
    "\n",
    "        genre_percentage = selected_platform_frame.sort_values(\"Genre\").groupby([\"Genre\"])[\"Name\"].count()\n",
    "\n",
    "        mpl.pyplot.figure(2)\n",
    "        mpl.pyplot.pie(genre_percentage, None, genre)\n",
    "        mpl.pyplot.title(title)\n",
    "        mpl.pyplot.legend(loc=\"right\")\n",
    "\n",
    "        # Calculate the scatter of global sales and critic scores on the platform.\n",
    "        sales = selected_platform_frame[\"Global_Sales\"]\n",
    "        scores = selected_platform_frame[\"Critic_Score\"]\n",
    "        selected_platform_frame = selected_platform_frame.replace(to_replace=\"tbd\", value=\"0\")\n",
    "        selected_platform_frame = selected_platform_frame.fillna(0)\n",
    "        #scores = selected_platform_frame[\"User_Score\"].astype(float)\n",
    "        #scores = scores.multiply(10)\n",
    "        #scores = scores.astype(int)\n",
    "\n",
    "        title = \"Distribution of Sales over Critic Score on Platform: {0}\".format(selected_platform)\n",
    "\n",
    "        mpl.pyplot.figure(3)\n",
    "        mpl.pyplot.scatter(scores, sales)\n",
    "        mpl.pyplot.title(title)\n",
    "        mpl.pyplot.xlabel(\"Scores\")\n",
    "        mpl.pyplot.ylabel(\"Sales\")\n",
    "    \n",
    "    display(output)\n",
    "\n",
    "\n",
    "videogame_database = pd.read_csv(\"Video_Games_Sales_as_at_22_Dec_2016.csv\")\n",
    "\n",
    "platform_dropdown_list = videogame_database[\"Platform\"].unique().tolist()\n",
    "\n",
    "selected_platform = platform_dropdown_list[0]\n",
    "selected_platform_frame = videogame_database[videogame_database[\"Platform\"] == selected_platform]\n",
    "\n",
    "genre_dropdown_list = selected_platform_frame[\"Genre\"].unique().tolist()\n",
    "genre_dropdown_list.sort()\n",
    "\n",
    "selected_genre = genre_dropdown_list[0]\n",
    "\n",
    "platform_dropdown = widgets.Dropdown(options=platform_dropdown_list, description=\"Platform:\", value=selected_platform)\n",
    "genre_dropdown = widgets.Dropdown(options=genre_dropdown_list, description=\"Genre:\", value=selected_genre)\n",
    "\n",
    "\n",
    "games_list = [None]\n",
    "games_dropdown = widgets.Dropdown(options=games_list, description=\"Game:\", value=None)\n",
    "recommended_games_list = [None]\n",
    "recommended_games_dropdown = widgets.Dropdown(options=recommended_games_list, description=\"Recommended:\", value=None, style = {\"description_width\": \"initial\"})\n",
    "refresh_games_list()\n",
    "\n",
    "platform_dropdown.observe(platform_change, names = \"value\")\n",
    "genre_dropdown.observe(genre_change, names = \"value\")\n",
    "games_dropdown.observe(game_change, names = \"value\")\n",
    "# Do initial output setup.\n",
    "output = widgets.Output()\n",
    "    \n",
    "update_plots()\n",
    "\n",
    "\n",
    "\n",
    "#similarity_characteristics = [\"Developer\", \"Critic_Score\", \"Critic_Count\", \"User_Score\", \"User_Count\"]\n",
    "#characteristics_frame = games_frame[similarity_characteristics]\n",
    "\n",
    "#selected_game_row = games_frame[games_frame[\"Name\"] == change[\"new\"]]\n",
    "#selected_game_row = games_frame[games_frame[\"Name\"] == \"Grand Theft Auto IV\"]\n",
    "#vectorizer = CountVectorizer()\n",
    "\n",
    "#developer_vocabulary = vectorizer.fit(selected_game_row[\"Developer\"])\n",
    "#selected_game_vector = developer_vocabulary.transform(selected_game_row[\"Developer\"])\n",
    "#test_games_vector = developer_vocabulary.transform(games_frame[\"Developer\"])\n",
    "#print (selected_game_vector.toarray())\n",
    "#similarity_vector = cosine_similarity(selected_game_vector, test_games_vector)\n",
    "#similarity_frame = pd.DataFrame(similarity_vector[0], columns=[\"Similarity\"])\n",
    "#recommended_games_frame = pd.DataFrame(games_frame[\"Name\"])\n",
    "#recommended_games_frame.insert(1, \"Similarity\", similarity_vector[0])\n",
    "#recommended_games_frame.sort_values(by=\"Similarity\", ascending=False, inplace=True)\n",
    "#print(similarity_vector[0])\n",
    "#print (recommended_games_frame)\n",
    "#print(similarity_vector.tolist())\n",
    "#print(pd.DataFrame(similarity_vector, columns=[\"Similarity\"]))\n",
    "#print (games_frame)\n",
    "#print (selected_game_row)\n",
    "#print (developer_vocabulary.\n",
    "#print(characteristics_frame)\n",
    "\n",
    "\n",
    "#selected_game_row = games_frame[games_frame[\"Name\"] == \"Grand Theft Auto IV\"]\n",
    "#vectorizer = CountVectorizer()\n",
    "\n",
    "#developer_vocabulary = vectorizer.fit(selected_game_row[\"Developer\"])\n",
    "#selected_developer_vector = developer_vocabulary.transform(selected_game_row[\"Developer\"])\n",
    "#developer_similarity_vector = developer_vocabulary.transform(games_frame[\"Developer\"])\n",
    "#similarity = cosine_similarity(selected_developer_vector, developer_similarity_vector)\n",
    "\n",
    "#name_vocabulary = vectorizer.fit(selected_game_row[\"Name\"])\n",
    "\n",
    "# Create developer name similarity matrix.\n",
    "#print(similarity[0])"
   ]
  }
 ],
 "metadata": {
  "extensions": {
   "jupyter_dashboards": {
    "activeView": "grid_default",
    "version": 1,
    "views": {
     "grid_default": {
      "cellMargin": 10,
      "defaultCellHeight": 20,
      "maxColumns": 12,
      "name": "grid",
      "type": "grid"
     },
     "report_default": {
      "name": "report",
      "type": "report"
     }
    }
   }
  },
  "kernelspec": {
   "display_name": "Python 3",
   "language": "python",
   "name": "python3"
  },
  "language_info": {
   "codemirror_mode": {
    "name": "ipython",
    "version": 3
   },
   "file_extension": ".py",
   "mimetype": "text/x-python",
   "name": "python",
   "nbconvert_exporter": "python",
   "pygments_lexer": "ipython3",
   "version": "3.7.1"
  }
 },
 "nbformat": 4,
 "nbformat_minor": 4
}